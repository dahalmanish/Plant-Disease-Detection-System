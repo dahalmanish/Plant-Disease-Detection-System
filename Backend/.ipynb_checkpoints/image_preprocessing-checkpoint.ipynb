{
 "cells": [
  {
   "cell_type": "code",
   "execution_count": 1,
   "id": "d7bfdfd9-cf8e-4857-ad04-5f52b3116b84",
   "metadata": {},
   "outputs": [],
   "source": [
    "from PIL import Image"
   ]
  },
  {
   "cell_type": "code",
   "execution_count": 2,
   "id": "63a5369a-14f0-4d25-83bb-f015b633f689",
   "metadata": {},
   "outputs": [],
   "source": [
    "import numpy as np"
   ]
  },
  {
   "cell_type": "code",
   "execution_count": 3,
   "id": "23ee16e6-7d06-4483-a0c8-1d5b9023ab8c",
   "metadata": {},
   "outputs": [],
   "source": [
    "import pandas as pd"
   ]
  },
  {
   "cell_type": "code",
   "execution_count": 4,
   "id": "f4656729-427d-41f6-bb9a-be075e2fe80f",
   "metadata": {},
   "outputs": [],
   "source": [
    "import matplotlib.pyplot as plt"
   ]
  },
  {
   "cell_type": "code",
   "execution_count": 5,
   "id": "8690d6d8-6612-428f-a2fd-d271657b9e61",
   "metadata": {},
   "outputs": [],
   "source": [
    "import  os"
   ]
  },
  {
   "cell_type": "code",
   "execution_count": 6,
   "id": "47e7b446-cbc1-42d6-bf6b-e75e38c23cad",
   "metadata": {},
   "outputs": [],
   "source": [
    "Train_Dataset=r\"C:\\Users\\AASHIK\\Desktop\\pyp\\backend\\tomato\\train\""
   ]
  },
  {
   "cell_type": "code",
   "execution_count": null,
   "id": "366b4ba2-b91e-45ef-8e93-620aeec10266",
   "metadata": {},
   "outputs": [],
   "source": [
    "pixels=np.array(['pixel_{:04d}'.format(x) for x in range(16384)])\n",
    "\n",
    "for label_index,tomato_images_folder in enumerate(sorted(os.listdir(Train_Dataset))):\n",
    "    Disease_folder_path=os.path.join(Train_Dataset,tomato_images_folder)\n",
    "    Images_DF=pd.DataFrame(columns=pixels);\n",
    "    file_exists = os.path.exists(r\"C:\\Users\\AASHIK\\Desktop\\pyp\\backend\\train_data1.csv\")\n",
    "    for x,tomato_leaves_images in enumerate(os.listdir(Disease_folder_path)):\n",
    "        Timages=Image.open(os.path.join(Disease_folder_path,tomato_leaves_images))\n",
    "        new_size=(128,128)\n",
    "        resizeT=Timages.resize(new_size)\n",
    "        T_Grayscale=np.array(resizeT.convert(\"L\"))\n",
    "        Create_Serie=pd.Series(T_Grayscale.flatten(),index=pixels)\n",
    "        Images_DF.loc[x]=Create_Serie\n",
    "    Images_DF=(Images_DF).astype(np.uint8)\n",
    "    Images_DF['Label']=  tomato_images_folder\n",
    "    if file_exists:\n",
    "        Images_DF.to_csv(output_csv, index=False, mode='a', header=False)\n",
    "    else:\n",
    "        Images_DF.to_csv(output_csv, index=False, mode='w', header=True)\n",
    "        file_exists = True"
   ]
  },
  {
   "cell_type": "code",
   "execution_count": null,
   "id": "ca82806d-6c9f-4f53-808d-c42e53ea26ba",
   "metadata": {},
   "outputs": [],
   "source": []
  }
 ],
 "metadata": {
  "kernelspec": {
   "display_name": "Python 3 (ipykernel)",
   "language": "python",
   "name": "python3"
  },
  "language_info": {
   "codemirror_mode": {
    "name": "ipython",
    "version": 3
   },
   "file_extension": ".py",
   "mimetype": "text/x-python",
   "name": "python",
   "nbconvert_exporter": "python",
   "pygments_lexer": "ipython3",
   "version": "3.12.5"
  }
 },
 "nbformat": 4,
 "nbformat_minor": 5
}
